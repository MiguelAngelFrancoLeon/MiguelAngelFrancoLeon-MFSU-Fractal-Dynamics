{
 "cells": [
  {
   "cell_type": "markdown",
   "id": "5d9c4635",
   "metadata": {},
   "source": [
    "# Fractal-Stochastic Model for Sodium Emission (LightCell)\n",
    "Simulación del espectro mejorado con modelo MFSU."
   ]
  },
  {
   "cell_type": "code",
   "execution_count": null,
   "id": "80e81e89",
   "metadata": {},
   "outputs": [],
   "source": [
    "import numpy as np\n",
    "import matplotlib.pyplot as plt"
   ]
  },
  {
   "cell_type": "code",
   "execution_count": null,
   "id": "1b4e03b0",
   "metadata": {},
   "outputs": [],
   "source": [
    "def fractal_emission_spectrum(frequencies, df=1.01, gamma=0.05, f0=589e12, sigma=2e12):\n",
    "    k = frequencies / f0\n",
    "    intensity = ((k**2)**((df - 2)/2) + gamma * np.log(k**2)) * np.exp(-((frequencies - f0)**2) / (2 * sigma**2))\n",
    "    return intensity / np.max(intensity)"
   ]
  },
  {
   "cell_type": "code",
   "execution_count": null,
   "id": "041d8cdd",
   "metadata": {},
   "outputs": [],
   "source": [
    "freqs = np.linspace(580e12, 600e12, 1000)\n",
    "spectrum = fractal_emission_spectrum(freqs)\n",
    "\n",
    "plt.plot(freqs / 1e12, spectrum, label='Fractal-Stochastic Emission')\n",
    "plt.xlabel('Frequency (THz)')\n",
    "plt.ylabel('Normalized Intensity')\n",
    "plt.title('Enhanced Sodium Emission Spectrum')\n",
    "plt.grid(True)\n",
    "plt.legend()\n",
    "plt.show()"
   ]
  }
 ],
 "metadata": {},
 "nbformat": 4,
 "nbformat_minor": 5
}
