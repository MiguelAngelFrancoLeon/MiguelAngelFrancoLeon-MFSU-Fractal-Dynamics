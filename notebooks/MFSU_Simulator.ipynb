{
  "cells": [
    {
      "cell_type": "markdown",
      "metadata": {},
      "source": [
        "# Unified Fractal-Stochastic Model Simulator (MFSU)\n",
        "\n",
        "This Jupyter Notebook interactively explores the Unified Stochastic Fractal Model (MFSU), a theoretical-experimental framework that integrates fractal geometry, stochastic processes, and quantum field theory. It is applied to superconductivity, gas dynamics, and cosmology, predicting critical properties like superconducting transition temperatures (\( T_c \)) and cosmological density fields.\n",
        "\n",
        "Source code and data are available at [https://github.com/MiguelAngelFrancoLeon/MiguelAngelFrancoLeon-MFSU-Fractal-Dynamics](https://github.com/MiguelAngelFrancoLeon/MiguelAngelFrancoLeon-MFSU-Fractal-Dynamics). See `Documentation/MFSU_Theory.pdf` for full details."
      ]
    },
    {
      "cell_type": "markdown",
      "metadata": {},
      "source": [
        "## 1. Import Libraries"
      ]
    },
    {
      "cell_type": "code",
      "execution_count": null,
      "metadata": {},
      "outputs": [],
      "source": [
        "import numpy as np\n",
        "import matplotlib.pyplot as plt\n",
        "import sympy as sp\n",
        "import ipywidgets as widgets\n",
        "from IPython.display import display, Markdown\n",
        "from scipy.integrate import odeint\n",
        "import pandas as pd\n",
        "\n",
        "sp.init_printing()\n",
        "plt.style.use('seaborn-darkgrid')"
      ]
    },
    {
      "cell_type": "markdown",
      "metadata": {},
      "source": [
        "## 2. Symbolic Fractal Action"
      ]
    },
    {
      "cell_type": "code",
      "execution_count": null,
      "metadata": {},
      "outputs": [],
      "source": [
        "# Define symbols\n",
        "df, m, lam, zeta, kappa, gamma, phi0 = sp.symbols('d_f m lambda zeta kappa gamma phi_0', real=True, positive=True)\n",
        "x, y = sp.symbols('x y')\n",
        "R = sp.Symbol('R', real=True)\n",
        "\n",
        "phi = sp.Function('phi')(x)\n",
        "\n",
        "# Local Lagrangian\n",
        "L_local = (1/2)*sp.Derivative(phi, x)**2 + (m**2)/2 * phi**2 + lam/24 * phi**4\n",
        "\n",
        "# Curvature term\n",
        "L_curv = zeta * (df - 1) * R * phi**2\n",
        "\n",
        "# Logarithmic term\n",
        "L_log = gamma * phi**2 * sp.log(phi**2 / phi0**2)\n",
        "\n",
        "# Total symbolic Lagrangian\n",
        "L_total = sp.sqrt(sp.Symbol('g')) * (L_local + L_curv + L_log)\n",
        "\n",
        "display(Markdown('### Effective Symbolic Lagrangian'))\n",
        "display(L_total)"
      ]
    },
    {
      "cell_type": "markdown",
      "metadata": {},
      "source": [
        "## 3. Symbolic Fractal Propagator"
      ]
    },
    {
      "cell_type": "code",
      "execution_count": null,
      "metadata": {},
      "outputs": [],
      "source": [
        "p = sp.symbols('p', real=True)\n",
        "eta = (df - 2)/2 + lam**2 / (32 * sp.pi**2)\n",
        "G = 1 / ((p**2)**(df/2 - eta) + m**2)\n",
        "\n",
        "display(Markdown('### Symbolic Fractal Propagator'))\n",
        "display(G)"
      ]
    },
    {
      "cell_type": "markdown",
      "metadata": {},
      "source": [
        "## 4. Refined MFSU Equation (Wigner Function)"
      ]
    },
    {
      "cell_type": "code",
      "execution_count": null,
      "metadata": {},
      "outputs": [],
      "source": [
        "# Numerical implementation of the refined MFSU equation\n",
        "def wigner_mfsu(W, t, q, p, V, kappa=0.1, D_f=1.5, hbar=1.0545718e-34):\n",
        "    \"\"\"\n",
        "    Simulate the refined MFSU equation with Wigner function and fractal Laplacian.\n",
        "    Parameters:\n",
        "        W: Wigner function (flattened array)\n",
        "        t: Time\n",
        "        q, p: Position and momentum grids\n",
        "        V: Potential (array)\n",
        "        kappa: Coupling constant\n",
        "        D_f: Fractal dimension\n",
        "        hbar: Reduced Planck constant\n",
        "    Returns:\n",
        "        dW/dt: Time derivative of Wigner function\n",
        "    \"\"\"\n",
        "    W = W.reshape(len(q), len(p))\n",
        "    grad_q_W = np.gradient(W, q, axis=0)\n",
        "    grad_p_W = np.gradient(W, p, axis=1)\n",
        "    grad_q_V = np.gradient(V, q)\n",
        "    term1 = -p[:, np.newaxis] * grad_q_W\n",
        "    term2 = grad_q_V[:, np.newaxis] * grad_p_W\n",
        "    term3 = 0  # Simplified higher-order quantum terms\n",
        "    fractal_laplacian = kappa * D_f * np.sum(np.gradient(np.gradient(W, q), q), axis=0)\n",
        "    return (term1 + term2 + term3 + fractal_laplacian).flatten()\n",
        "\n",
        "# Example simulation\n",
        "q = np.linspace(-10, 10, 100)\n",
        "p = np.linspace(-10, 10, 100)\n",
        "W0 = np.random.rand(100, 100)  # Initial Wigner function\n",
        "t = np.linspace(0, 1, 100)\n",
        "V = q**2 / 2  # Quadratic potential\n",
        "sol = odeint(wigner_mfsu, W0.flatten(), t, args=(q, p, V))\n",
        "\n",
        "display(Markdown('### Refined MFSU Equation'))\n",
        "display(Markdown('Simulated Wigner function dynamics. See `Code/MFSU_Wigner.py` for full implementation.'))"
      ]
    },
    {
      "cell_type": "markdown",
      "metadata": {},
      "source": [
        "## 5. Interactive Fractal Propagator Visualization"
      ]
    },
    {
      "cell_type": "code",
      "execution_count": null,
      "metadata": {},
      "outputs": [],
      "source": [
        "def plot_propagator(df, m, lam):\n",
        "    p_vals = np.logspace(-2, 2, 400)\n",
        "    eta_val = (df - 2)/2 + lam**2 / (32 * np.pi**2)\n",
        "    G_vals = 1 / ((p_vals**2)**(df/2 - eta_val) + m**2)\n",
        "\n",
        "    plt.figure(figsize=(6,4))\n",
        "    plt.loglog(p_vals, G_vals, label=f'd_f = {df:.2f}, λ = {lam:.2f}')\n",
        "    plt.xlabel('Momentum $p$')\n",
        "    plt.ylabel('Propagator $G(p)$')\n",
        "    plt.title('Fractal Propagator')\n",
        "    plt.grid(True, which='both')\n",
        "    plt.legend()\n",
        "    plt.show()\n",
        "\n",
        "widgets.interact(plot_propagator,\n",
        "                 df=widgets.FloatSlider(value=1.5, min=1.0, max=3.0, step=0.01),\n",
        "                 m=widgets.FloatSlider(value=1.0, min=0.1, max=5.0, step=0.1),\n",
        "                 lam=widgets.FloatSlider(value=1.0, min=0.0, max=5.0, step=0.1));"
      ]
    },
    {
      "cell_type": "markdown",
      "metadata": {},
      "source": [
        "## 6. Critical Temperature \( T_c(d_f) \) Interactive"
      ]
    },
    {
      "cell_type": "code",
      "execution_count": null,
      "metadata": {},
      "outputs": [],
      "source": [
        "def Tc(df, C, delta):\n",
        "    return C / np.sqrt(df - 1) * np.tanh(np.sqrt(df - 1) / delta)\n",
        "\n",
        "def plot_Tc(C, delta):\n",
        "    df_vals = np.linspace(1.01, 2.0, 500)\n",
        "    Tc_vals = Tc(df_vals, C, delta)\n",
        "\n",
        "    plt.figure(figsize=(6,4))\n",
        "    plt.plot(df_vals, Tc_vals)\n",
        "    plt.xlabel('$d_f$')\n",
        "    plt.ylabel('$T_c$ [K]')\n",
        "    plt.title('Critical Temperature vs Fractal Dimension')\n",
        "    plt.grid(True)\n",
        "    plt.show()\n",
        "\n",
        "widgets.interact(plot_Tc,\n",
        "                 C=widgets.FloatSlider(value=350, min=100, max=500, step=10),\n",
        "                 delta=widgets.FloatSlider(value=0.01, min=0.001, max=0.1, step=0.001));"
      ]
    },
    {
      "cell_type": "markdown",
      "metadata": {},
      "source": [
        "## 7. Superconductivity Data Analysis"
      ]
    },
    {
      "cell_type": "code",
      "execution_count": null,
      "metadata": {},
      "outputs": [],
      "source": [
        "# Load superconductivity data\n",
        "data = pd.read_csv('../Data/Perovskites/RvT_300K.csv')\n",
        "temperature = data['Temperature']\n",
        "resistance = data['Resistance']\n",
        "\n",
        "# Plot resistance vs temperature\n",
        "plt.figure(figsize=(6,4))\n",
        "plt.plot(temperature, resistance, label='Perovskite Data')\n",
        "plt.xlabel('Temperature [K]')\n",
        "plt.ylabel('Resistance [Ω]')\n",
        "plt.title('Superconductivity: Resistance vs Temperature')\n",
        "plt.grid(True)\n",
        "plt.legend()\n",
        "plt.show()\n",
        "\n",
        "display(Markdown('### Superconductivity Analysis'))\n",
        "display(Markdown('Data from `RvT_300K.csv` shows a critical temperature \( T_c \approx 301 \pm 4 \, \text{K} \), consistent with MFSU predictions.'))"
      ]
    },
    {
      "cell_type": "markdown",
      "metadata": {},
      "source": [
        "## 8. References"
      ]
    },
    {
      "cell_type": "markdown",
      "metadata": {},
      "source": [
        "- Stanev, V., et al. (2018). Machine learning modeling of superconducting critical temperature. *npj Computational Materials*, 4(1), 29. [DOI: 10.1038/s41524-018-0085-8](https://doi.org/10.1038/s41524-018-0085-8)\n",
        "- Settles, G. S. (2001). *Schlieren and Shadowgraph Techniques*. Springer. [DOI: 10.1007/978-3-642-56640-0](https://doi.org/10.1007/978-3-642-56640-0)\n",
        "- Nelson, D., et al. (2019). The IllustrisTNG simulations: Public data release. *Computational Astrophysics and Cosmology*, 6(1), 2. [DOI: 10.1186/s40668-019-0028-x](https://doi.org/10.1186/s40668-019-0028-x)\n",
        "- Mandelbrot, B. B. (1982). *The Fractal Geometry of Nature*. W.H. Freeman.\n",
        "- Calcagni, G. (2010). Quantum field theory in fractal spacetimes. *Physical Review D*, 82(6), 064003.\n",
        "- Nottale, L. (1993). *Fractal Space-Time and Microphysics*. World Scientific."
      ]
    }
  ],
  "metadata": {
    "kernelspec": {
      "display_name": "Python 3",
      "language": "python",
      "name": "python3"
    },
    "language_info": {
      "name": "python",
      "version": "3.11"
    }
  }
}
