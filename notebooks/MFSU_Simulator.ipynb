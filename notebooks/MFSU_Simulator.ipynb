{
  "cells": [
    {
      "cell_type": "markdown",
      "metadata": {},
      "source": [
        "# Unified Fractal-Stochastic Model Simulator (MFSU)\n",
        "\n",
        "Este notebook permite explorar interactivamente el modelo unificado fractal-estoc\u00e1stico aplicado a superconductividad, cosmolog\u00eda y detecci\u00f3n de part\u00edculas."
      ]
    },
    {
      "cell_type": "markdown",
      "metadata": {},
      "source": [
        "## 1. Importar librer\u00edas"
      ]
    },
    {
      "cell_type": "code",
      "execution_count": null,
      "metadata": {},
      "outputs": [],
      "source": [
        "import numpy as np\n",
        "import matplotlib.pyplot as plt\n",
        "import sympy as sp\n",
        "import ipywidgets as widgets\n",
        "from IPython.display import display, Markdown\n",
        "\n",
        "sp.init_printing()\n",
        "plt.style.use('seaborn-darkgrid')"
      ]
    },
    {
      "cell_type": "markdown",
      "metadata": {},
      "source": [
        "## 2. Acci\u00f3n fractal simb\u00f3lica"
      ]
    },
    {
      "cell_type": "code",
      "execution_count": null,
      "metadata": {},
      "outputs": [],
      "source": [
        "# Definir s\u00edmbolos\n",
        "df, m, lam, zeta, kappa, gamma, phi0 = sp.symbols('d_f m lambda zeta kappa gamma phi_0', real=True, positive=True)\n",
        "x, y = sp.symbols('x y')\n",
        "R = sp.Symbol('R', real=True)\n",
        "\n",
        "phi = sp.Function('phi')(x)\n",
        "\n",
        "# Lagrangiana local\n",
        "L_local = (1/2)*sp.Derivative(phi, x)**2 + (m**2)/2 * phi**2 + lam/24 * phi**4\n",
        "\n",
        "# T\u00e9rmino curvatura\n",
        "L_curv = zeta * (df - 1) * R * phi**2\n",
        "\n",
        "# T\u00e9rmino logar\u00edtmico\n",
        "L_log = gamma * phi**2 * sp.log(phi**2 / phi0**2)\n",
        "\n",
        "# Lagrangiana total simb\u00f3lica (sin t\u00e9rmino no local expl\u00edcito)\n",
        "L_total = sp.sqrt(sp.Symbol('g')) * (L_local + L_curv + L_log)\n",
        "\n",
        "display(Markdown('### Lagrangiana efectiva simb\u00f3lica'))\n",
        "display(L_total)"
      ]
    },
    {
      "cell_type": "markdown",
      "metadata": {},
      "source": [
        "## 3. Propagador fractal simb\u00f3lico"
      ]
    },
    {
      "cell_type": "code",
      "execution_count": null,
      "metadata": {},
      "outputs": [],
      "source": [
        "p = sp.symbols('p', real=True)\n",
        "eta = (df - 2)/2 + lam**2 / (32 * sp.pi**2)\n",
        "G = 1 / ((p**2)**(df/2 - eta) + m**2)\n",
        "\n",
        "display(Markdown('### Propagador fractal simb\u00f3lico'))\n",
        "display(G)"
      ]
    },
    {
      "cell_type": "markdown",
      "metadata": {},
      "source": [
        "## 4. Visualizaci\u00f3n interactiva del propagador fractal"
      ]
    },
    {
      "cell_type": "code",
      "execution_count": null,
      "metadata": {},
      "outputs": [],
      "source": [
        "def plot_propagator(df, m, lam):\n",
        "    p_vals = np.logspace(-2, 2, 400)\n",
        "    eta_val = (df - 2)/2 + lam**2 / (32 * np.pi**2)\n",
        "    G_vals = 1 / ((p_vals**2)**(df/2 - eta_val) + m**2)\n",
        "\n",
        "    plt.figure(figsize=(6,4))\n",
        "    plt.loglog(p_vals, G_vals, label=f'd_f = {df:.2f}, \u03bb = {lam:.2f}')\n",
        "    plt.xlabel(\"Momentum $p$\")\n",
        "    plt.ylabel(\"Propagator $G(p)$\")\n",
        "    plt.title(\"Fractal Propagator\")\n",
        "    plt.grid(True, which='both')\n",
        "    plt.legend()\n",
        "    plt.show()\n",
        "\n",
        "widgets.interact(plot_propagator,\n",
        "                 df=widgets.FloatSlider(value=1.5, min=1.0, max=3.0, step=0.01),\n",
        "                 m=widgets.FloatSlider(value=1.0, min=0.1, max=5.0, step=0.1),\n",
        "                 lam=widgets.FloatSlider(value=1.0, min=0.0, max=5.0, step=0.1));"
      ]
    },
    {
      "cell_type": "markdown",
      "metadata": {},
      "source": [
        "## 5. Temperatura cr\u00edtica \\( T_c(d_f) \\) interactiva"
      ]
    },
    {
      "cell_type": "code",
      "execution_count": null,
      "metadata": {},
      "outputs": [],
      "source": [
        "def Tc(df, C, delta):\n",
        "    return C / np.sqrt(df - 1) * np.tanh(np.sqrt(df - 1) / delta)\n",
        "\n",
        "def plot_Tc(C, delta):\n",
        "    df_vals = np.linspace(1.01, 2.0, 500)\n",
        "    Tc_vals = Tc(df_vals, C, delta)\n",
        "\n",
        "    plt.figure(figsize=(6,4))\n",
        "    plt.plot(df_vals, Tc_vals)\n",
        "    plt.xlabel(\"$d_f$\")\n",
        "    plt.ylabel(\"$T_c$ [K]\")\n",
        "    plt.title(\"Critical Temperature vs Fractal Dimension\")\n",
        "    plt.grid(True)\n",
        "    plt.show()\n",
        "\n",
        "widgets.interact(plot_Tc,\n",
        "                 C=widgets.FloatSlider(value=350, min=100, max=500, step=10),\n",
        "                 delta=widgets.FloatSlider(value=0.01, min=0.001, max=0.1, step=0.001));"
      ]
    },
    {
      "cell_type": "markdown",
      "metadata": {},
      "source": [
        "## 6. Referencias"
      ]
    },
    {
      "cell_type": "markdown",
      "metadata": {},
      "source": [
        "- Mandelbrot, *The Fractal Geometry of Nature*, 1982.\n",
        "- Calcagni, *Quantum field theory in fractal spacetimes*, PRD 2010.\n",
        "- Nottale, *Fractal Space-Time and Microphysics*, 1993."
      ]
    }
  ],
  "metadata": {
    "kernelspec": {
      "display_name": "Python 3",
      "language": "python",
      "name": "python3"
    },
    "language_info": {
      "name": "python",
      "version": "3.x"
    }
  }
}