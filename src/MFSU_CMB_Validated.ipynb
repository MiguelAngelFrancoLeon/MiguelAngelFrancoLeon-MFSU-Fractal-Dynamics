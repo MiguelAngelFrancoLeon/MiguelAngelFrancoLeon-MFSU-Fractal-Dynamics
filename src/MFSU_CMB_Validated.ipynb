{
 "cells": [
  {
   "cell_type": "markdown",
   "id": "cd39d13c",
   "metadata": {},
   "source": [
    "# CMB Angular Power Spectrum Simulation using Validated MFSU Formula\n",
    "This notebook simulates the Cosmic Microwave Background (CMB) angular power spectrum using the Unified Fractal-Stochastic Model (MFSU) with the final validated formula."
   ]
  },
  {
   "cell_type": "code",
   "execution_count": null,
   "id": "b9da2308",
   "metadata": {},
   "outputs": [],
   "source": [
    "import numpy as np\n",
    "import pandas as pd\n",
    "import matplotlib.pyplot as plt\n",
    "from scipy.optimize import minimize\n",
    "from sklearn.metrics import mean_squared_error\n",
    "\n",
    "# Model constants\n",
    "ALPHA = 1.0\n",
    "BETA = 0.1\n",
    "GAMMA = 0.05\n",
    "THETA = 0.921\n"
   ]
  },
  {
   "cell_type": "code",
   "execution_count": null,
   "id": "c8a78208",
   "metadata": {},
   "outputs": [],
   "source": [
    "def hurst_noise(length, hurst=0.7, seed=42):\n",
    "    np.random.seed(seed)\n",
    "    white_noise = np.random.normal(size=length)\n",
    "    cumulative_sum = np.cumsum(white_noise)\n",
    "    return cumulative_sum / np.max(np.abs(cumulative_sum)) * hurst\n"
   ]
  },
  {
   "cell_type": "code",
   "execution_count": null,
   "id": "fffc08c9",
   "metadata": {},
   "outputs": [],
   "source": [
    "def cl_mfsu(ell, A, theta=THETA, beta=BETA, gamma=GAMMA):\n",
    "    noise = hurst_noise(len(ell), hurst=theta)\n",
    "    cl_linear = A * ell ** (-theta)\n",
    "    cl_nonlinear = -gamma * (cl_linear ** 3)\n",
    "    return cl_linear + beta * noise + cl_nonlinear\n"
   ]
  },
  {
   "cell_type": "code",
   "execution_count": null,
   "id": "b643cb8f",
   "metadata": {},
   "outputs": [],
   "source": [
    "def cost(params, ell, cl_obs, cl_err):\n",
    "    A = params[0]\n",
    "    cl_pred = cl_mfsu(ell, A)\n",
    "    return mean_squared_error(cl_obs, cl_pred, squared=False)\n"
   ]
  },
  {
   "cell_type": "code",
   "execution_count": null,
   "id": "3f993f41",
   "metadata": {},
   "outputs": [],
   "source": [
    "data = pd.read_csv('Data/CMB/Planck_TT_2018.csv')\n",
    "ell = data['ell'].values\n",
    "cl_obs = data['Cl'].values\n",
    "cl_err = data['Cl_err'].values\n"
   ]
  },
  {
   "cell_type": "code",
   "execution_count": null,
   "id": "f4716ab3",
   "metadata": {},
   "outputs": [],
   "source": [
    "result = minimize(cost, x0=[1e-10], args=(ell, cl_obs, cl_err), bounds=[(1e-12, 1e-8)])\n",
    "A_best = result.x[0]\n",
    "print(f\"Best fit A: {A_best:.2e}\")\n"
   ]
  },
  {
   "cell_type": "code",
   "execution_count": null,
   "id": "f050c0bb",
   "metadata": {},
   "outputs": [],
   "source": [
    "cl_pred = cl_mfsu(ell, A_best)\n",
    "rmse_mfsu = mean_squared_error(cl_obs, cl_pred, squared=False)\n",
    "print(f\"RMSE MFSU: {rmse_mfsu:.4e}\")\n"
   ]
  },
  {
   "cell_type": "code",
   "execution_count": null,
   "id": "2e60c943",
   "metadata": {},
   "outputs": [],
   "source": [
    "def cl_lcdm(ell, A):\n",
    "    return A * ell ** (-2.0)\n",
    "\n",
    "cl_lcdm_pred = cl_lcdm(ell, A_best)\n",
    "rmse_lcdm = mean_squared_error(cl_obs, cl_lcdm_pred, squared=False)\n",
    "print(f\"RMSE LCDM: {rmse_lcdm:.4e}\")\n",
    "improvement = (rmse_lcdm - rmse_mfsu) / rmse_lcdm * 100\n",
    "print(f\"Improvement over LCDM: {improvement:.2f}%\")\n"
   ]
  },
  {
   "cell_type": "code",
   "execution_count": null,
   "id": "f25e9dc2",
   "metadata": {},
   "outputs": [],
   "source": [
    "plt.figure(figsize=(10, 6))\n",
    "plt.errorbar(ell, cl_obs, yerr=cl_err, fmt='k.', label='Planck 2018 (TT)')\n",
    "plt.plot(ell, cl_pred, 'r-', label=f'MFSU $\\\\theta$={THETA}')\n",
    "plt.plot(ell, cl_lcdm_pred, 'b--', label='LCDM $\\\\theta$=2.0')\n",
    "plt.xscale('log')\n",
    "plt.yscale('log')\n",
    "plt.xlabel('Multipole moment $\\\\ell$')\n",
    "plt.ylabel('$C_\\\\ell$ (arb. units)')\n",
    "plt.title('CMB Angular Power Spectrum: MFSU (Validated Formula)')\n",
    "plt.legend()\n",
    "plt.tight_layout()\n",
    "plt.savefig('Results/CMB/cmb_mfsu_validated_comparison.png')\n",
    "plt.show()\n"
   ]
  }
 ],
 "metadata": {},
 "nbformat": 4,
 "nbformat_minor": 5
}