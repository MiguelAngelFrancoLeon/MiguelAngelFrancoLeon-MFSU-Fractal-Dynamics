{
 "cells": [
  {
   "cell_type": "markdown",
   "id": "ad27cf44",
   "metadata": {},
   "source": [
    "# MFSU vs ΛCDM: CMB Low-ℓ Analysis\n",
    "This notebook fits the MFSU model to Planck 2018 TT data for low multipoles (ℓ ≤ 30), comparing it to ΛCDM."
   ]
  },
  {
   "cell_type": "code",
   "execution_count": null,
   "id": "05914ee8",
   "metadata": {},
   "outputs": [],
   "source": [
    "\n",
    "import pandas as pd\n",
    "import numpy as np\n",
    "import matplotlib.pyplot as plt\n",
    "from scipy.optimize import minimize\n",
    "from sklearn.metrics import mean_squared_error\n",
    "from sklearn.utils import resample\n"
   ]
  },
  {
   "cell_type": "code",
   "execution_count": null,
   "id": "103844da",
   "metadata": {},
   "outputs": [],
   "source": [
    "\n",
    "# Cargar CSV con datos filtrados de Planck TT\n",
    "data = pd.read_csv(\"Planck_TT_low_ell.csv\")\n",
    "ell = data[\"ell\"].values\n",
    "cl_obs = data[\"Cl\"].values\n",
    "cl_err = data[\"Cl_err\"].values\n"
   ]
  },
  {
   "cell_type": "code",
   "execution_count": null,
   "id": "d77319d8",
   "metadata": {},
   "outputs": [],
   "source": [
    "\n",
    "def cl_mfsu(ell, A, d_f):\n",
    "    return A * ell ** -(d_f - 1)\n",
    "\n",
    "def cost(params, ell, cl_obs):\n",
    "    A, d_f = params\n",
    "    cl_pred = cl_mfsu(ell, A, d_f)\n",
    "    return mean_squared_error(cl_obs, cl_pred, squared=False)\n"
   ]
  },
  {
   "cell_type": "code",
   "execution_count": null,
   "id": "a74fad25",
   "metadata": {},
   "outputs": [],
   "source": [
    "\n",
    "result = minimize(cost, x0=[1e-10, 1.5], args=(ell, cl_obs), bounds=[(1e-12, 1e-8), (1.2, 2.0)])\n",
    "A_best, d_f_best = result.x\n",
    "print(f\"A = {A_best:.2e}, d_f = {d_f_best:.4f}\")\n"
   ]
  },
  {
   "cell_type": "code",
   "execution_count": null,
   "id": "8ea99ac8",
   "metadata": {},
   "outputs": [],
   "source": [
    "\n",
    "d_f_boots = []\n",
    "for _ in range(500):\n",
    "    idx = np.random.choice(len(ell), len(ell), replace=True)\n",
    "    ell_b, cl_b = ell[idx], cl_obs[idx]\n",
    "    res = minimize(cost, x0=[A_best, d_f_best], args=(ell_b, cl_b))\n",
    "    d_f_boots.append(res.x[1])\n",
    "d_f_err = np.std(d_f_boots) * 1.96\n",
    "print(f\"95% CI for d_f: ±{d_f_err:.4f}\")\n"
   ]
  },
  {
   "cell_type": "code",
   "execution_count": null,
   "id": "0f21491c",
   "metadata": {},
   "outputs": [],
   "source": [
    "\n",
    "cl_pred = cl_mfsu(ell, A_best, d_f_best)\n",
    "cl_lcdm = cl_mfsu(ell.astype(float), A_best, 2.0)\n",
    "rmse_mfsu = mean_squared_error(cl_obs, cl_pred, squared=False)\n",
    "rmse_lcdm = mean_squared_error(cl_obs, cl_lcdm, squared=False)\n",
    "improvement = (rmse_lcdm - rmse_mfsu) / rmse_lcdm * 100\n",
    "\n",
    "print(f\"RMSE MFSU: {rmse_mfsu:.4f}\")\n",
    "print(f\"RMSE ΛCDM: {rmse_lcdm:.4f}\")\n",
    "print(f\"Improvement: {improvement:.2f}%\")\n"
   ]
  },
  {
   "cell_type": "code",
   "execution_count": null,
   "id": "47f8fbc9",
   "metadata": {},
   "outputs": [],
   "source": [
    "\n",
    "plt.figure(figsize=(10, 6))\n",
    "plt.errorbar(ell, cl_obs, yerr=cl_err, fmt='ko', label='Planck 2018 (ℓ ≤ 30)')\n",
    "plt.plot(ell, cl_pred, 'r-', label=f'MFSU (d_f = {d_f_best:.2f})')\n",
    "plt.plot(ell, cl_lcdm, 'b--', label='ΛCDM (d_f = 2)')\n",
    "plt.yscale('log')\n",
    "plt.xlabel('Multipole moment ℓ')\n",
    "plt.ylabel('C_ℓ [μK²]')\n",
    "plt.title('MFSU vs ΛCDM Fit to Planck TT (ℓ ≤ 30)')\n",
    "plt.grid(True)\n",
    "plt.legend()\n",
    "plt.tight_layout()\n",
    "plt.savefig(\"mfsu_vs_lcdm_fit.png\")\n",
    "plt.show()\n"
   ]
  }
 ],
 "metadata": {},
 "nbformat": 4,
 "nbformat_minor": 5
}
